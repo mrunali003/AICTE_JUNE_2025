{
 "cells": [
  {
   "cell_type": "raw",
   "id": "8298b3f4-9970-450d-a002-490e540b881b",
   "metadata": {},
   "source": [
    "# To install basic/necessary libraries\n",
    "pip install pandas numpy matplotlib seaborn scikit-learn"
   ]
  },
  {
   "cell_type": "code",
   "execution_count": null,
   "id": "1d263db6-aa50-4955-bec7-4535c878dbb3",
   "metadata": {
    "jupyter": {
     "source_hidden": true
    }
   },
   "outputs": [],
   "source": [
    "# Import necessary libraries\n",
    "import pandas as pd # data manipulation\n",
    "import numpy as np # numerical python - linear algebra\n",
    "\n",
    "from sklearn.multioutput import MultiOutputRegressor\n",
    "from sklearn.ensemble import RandomForestRegressor\n",
    "from sklearn.model_selection import train_test_split\n",
    "from sklearn.metrics import mean_squared_error, r2_score"
   ]
  },
  {
   "cell_type": "raw",
   "id": "eac8d611-d434-4dd6-869b-b16778db8b74",
   "metadata": {},
   "source": [
    "# load the dataset\n",
    "df = pd.read_csv('PB_All_2000_2021.csv', sep=';')\n",
    "df"
   ]
  },
  {
   "cell_type": "code",
   "execution_count": null,
   "id": "6279e59e-fef8-44ee-9758-d442da0ff288",
   "metadata": {},
   "outputs": [],
   "source": [
    "\tid\tdate\tNH4\tBSK5\tSuspended\tO2\tNO3\tNO2\tSO4\tPO4\tCL\n",
    "0\t1\t17.02.2000\t0.330\t2.77\t12.0\t12.30\t9.50\t0.057\t154.00\t0.454\t289.50\n",
    "1\t1\t11.05.2000\t0.044\t3.00\t51.6\t14.61\t17.75\t0.034\t352.00\t0.090\t1792.00\n",
    "2\t1\t11.09.2000\t0.032\t2.10\t24.5\t9.87\t13.80\t0.173\t416.00\t0.200\t2509.00\n",
    "3\t1\t13.12.2000\t0.170\t2.23\t35.6\t12.40\t17.13\t0.099\t275.20\t0.377\t1264.00\n",
    "4\t1\t02.03.2001\t0.000\t3.03\t48.8\t14.69\t10.00\t0.065\t281.60\t0.134\t1462.00\n",
    "...\t...\t...\t...\t...\t...\t...\t...\t...\t...\t...\t...\n",
    "2856\t22\t06.10.2020\t0.046\t2.69\t3.6\t8.28\t3.80\t0.038\t160.00\t0.726\t77.85\n",
    "2857\t22\t27.10.2020\t0.000\t1.52\t0.5\t11.26\t0.56\t0.031\t147.20\t0.634\t71.95\n",
    "2858\t22\t03.12.2020\t0.034\t0.29\t0.8\t11.09\t2.58\t0.042\t209.92\t0.484\t61.17\n",
    "2859\t22\t12.01.2021\t0.000\t2.10\t0.0\t14.31\t3.94\t0.034\t121.60\t0.424\t63.49\n",
    "2860\t22\t10.02.2021\t0.000\t1.78\t0.0\t14.30\t6.30\t0.033\t134.40\t0.582\t66.31\n",
    "2861 rows × 11 columns"
   ]
  },
  {
   "cell_type": "code",
   "execution_count": null,
   "id": "47d9b5c2-07dd-4a49-bd88-71c3245c8f68",
   "metadata": {},
   "outputs": [],
   "source": [
    "df.info() # dataset info\n",
    "<class 'pandas.core.frame.DataFrame'>\n",
    "RangeIndex: 2861 entries, 0 to 2860\n",
    "Data columns (total 11 columns):\n",
    " #   Column     Non-Null Count  Dtype  \n",
    "---  ------     --------------  -----  \n",
    " 0   id         2861 non-null   int64  \n",
    " 1   date       2861 non-null   object \n",
    " 2   NH4        2858 non-null   float64\n",
    " 3   BSK5       2860 non-null   float64\n",
    " 4   Suspended  2845 non-null   float64\n",
    " 5   O2         2858 non-null   float64\n",
    " 6   NO3        2860 non-null   float64\n",
    " 7   NO2        2858 non-null   float64\n",
    " 8   SO4        2812 non-null   float64\n",
    " 9   PO4        2833 non-null   float64\n",
    " 10  CL         2812 non-null   float64\n",
    "dtypes: float64(9), int64(1), object(1)\n",
    "memory usage: 246.0+ KB"
   ]
  },
  {
   "cell_type": "code",
   "execution_count": null,
   "id": "d735a5ad-6d5f-46d0-97e8-812d7d70e1cf",
   "metadata": {},
   "outputs": [],
   "source": [
    "# rows and cols\n",
    "df.shape"
   ]
  },
  {
   "cell_type": "code",
   "execution_count": null,
   "id": "96deb6fc-b23b-4499-bb33-27866ab1a507",
   "metadata": {},
   "outputs": [],
   "source": [
    "(2861, 11)"
   ]
  },
  {
   "cell_type": "code",
   "execution_count": null,
   "id": "6e55b03d-158d-4b7e-87a8-351179cb7632",
   "metadata": {},
   "outputs": [],
   "source": [
    "# Statistics of the data\n",
    "df.describe().T"
   ]
  },
  {
   "cell_type": "code",
   "execution_count": null,
   "id": "ff335e84-9b73-47fe-8beb-ade5f85ac193",
   "metadata": {},
   "outputs": [],
   "source": [
    "\tcount\tmean\tstd\tmin\t25%\t50%\t75%\tmax\n",
    "id\t2861.0\t12.397064\t6.084226\t1.00\t8.0000\t14.000\t16.00000\t22.000\n",
    "NH4\t2858.0\t0.758734\t2.486247\t0.00\t0.0800\t0.220\t0.50000\t39.427\n",
    "BSK5\t2860.0\t4.316182\t2.973997\t0.00\t2.1600\t3.800\t5.80000\t50.900\n",
    "Suspended\t2845.0\t12.931905\t16.543097\t0.00\t6.0000\t10.000\t15.00000\t595.000\n",
    "O2\t2858.0\t9.508902\t4.428260\t0.00\t7.0925\t8.995\t11.52000\t90.000\n",
    "NO3\t2860.0\t4.316846\t6.881188\t0.00\t1.3900\t2.800\t5.58250\t133.400\n",
    "NO2\t2858.0\t0.246128\t2.182777\t0.00\t0.0300\t0.059\t0.12575\t109.000\n",
    "SO4\t2812.0\t59.362313\t96.582641\t0.00\t27.0525\t37.800\t64.64000\t3573.400\n",
    "PO4\t2833.0\t0.418626\t0.771326\t0.00\t0.1300\t0.270\t0.47000\t13.879\n",
    "CL\t2812.0\t93.731991\t394.512184\t0.02\t26.8000\t33.900\t45.60750\t5615.280\n"
   ]
  },
  {
   "cell_type": "code",
   "execution_count": null,
   "id": "aae73b78-168f-491c-8c2c-40e84ba63587",
   "metadata": {},
   "outputs": [],
   "source": [
    "# Missing values\n",
    "df.isnull().sum()"
   ]
  },
  {
   "cell_type": "code",
   "execution_count": null,
   "id": "0798cfd1-a0a9-4b62-8312-08b0ddd8439c",
   "metadata": {},
   "outputs": [],
   "source": [
    "id            0\n",
    "date          0\n",
    "NH4           3\n",
    "BSK5          1\n",
    "Suspended    16\n",
    "O2            3\n",
    "NO3           1\n",
    "NO2           3\n",
    "SO4          49\n",
    "PO4          28\n",
    "CL           49\n",
    "dtype: int64"
   ]
  },
  {
   "cell_type": "code",
   "execution_count": null,
   "id": "12ca61b9-dbcf-4ea6-81af-ca37d6a2ca95",
   "metadata": {},
   "outputs": [],
   "source": [
    "# date is in object - date format\n",
    "df['date'] = pd.to_datetime(df['date'], format='%d.%m.%Y')\n",
    "df"
   ]
  },
  {
   "cell_type": "code",
   "execution_count": null,
   "id": "a03ad69b-ced5-44f0-a603-61210124c1e4",
   "metadata": {},
   "outputs": [],
   "source": [
    "\tid\tdate\tNH4\tBSK5\tSuspended\tO2\tNO3\tNO2\tSO4\tPO4\tCL\n",
    "0\t1\t2000-02-17\t0.330\t2.77\t12.0\t12.30\t9.50\t0.057\t154.00\t0.454\t289.50\n",
    "1\t1\t2000-05-11\t0.044\t3.00\t51.6\t14.61\t17.75\t0.034\t352.00\t0.090\t1792.00\n",
    "2\t1\t2000-09-11\t0.032\t2.10\t24.5\t9.87\t13.80\t0.173\t416.00\t0.200\t2509.00\n",
    "3\t1\t2000-12-13\t0.170\t2.23\t35.6\t12.40\t17.13\t0.099\t275.20\t0.377\t1264.00\n",
    "4\t1\t2001-03-02\t0.000\t3.03\t48.8\t14.69\t10.00\t0.065\t281.60\t0.134\t1462.00\n",
    "...\t...\t...\t...\t...\t...\t...\t...\t...\t...\t...\t...\n",
    "2856\t22\t2020-10-06\t0.046\t2.69\t3.6\t8.28\t3.80\t0.038\t160.00\t0.726\t77.85\n",
    "2857\t22\t2020-10-27\t0.000\t1.52\t0.5\t11.26\t0.56\t0.031\t147.20\t0.634\t71.95\n",
    "2858\t22\t2020-12-03\t0.034\t0.29\t0.8\t11.09\t2.58\t0.042\t209.92\t0.484\t61.17\n",
    "2859\t22\t2021-01-12\t0.000\t2.10\t0.0\t14.31\t3.94\t0.034\t121.60\t0.424\t63.49\n",
    "2860\t22\t2021-02-10\t0.000\t1.78\t0.0\t14.30\t6.30\t0.033\t134.40\t0.582\t66.31\n",
    "2861 rows × 11 columns"
   ]
  },
  {
   "cell_type": "code",
   "execution_count": null,
   "id": "72e55b0b-b0f3-46a6-bedd-43cb68c6348e",
   "metadata": {},
   "outputs": [],
   "source": [
    "df.info()\n",
    "<class 'pandas.core.frame.DataFrame'>\n",
    "RangeIndex: 2861 entries, 0 to 2860\n",
    "Data columns (total 11 columns):\n",
    " #   Column     Non-Null Count  Dtype         \n",
    "---  ------     --------------  -----         \n",
    " 0   id         2861 non-null   int64         \n",
    " 1   date       2861 non-null   datetime64[ns]\n",
    " 2   NH4        2858 non-null   float64       \n",
    " 3   BSK5       2860 non-null   float64       \n",
    " 4   Suspended  2845 non-null   float64       \n",
    " 5   O2         2858 non-null   float64       \n",
    " 6   NO3        2860 non-null   float64       \n",
    " 7   NO2        2858 non-null   float64       \n",
    " 8   SO4        2812 non-null   float64       \n",
    " 9   PO4        2833 non-null   float64       \n",
    " 10  CL         2812 non-null   float64       \n",
    "dtypes: datetime64[ns](1), float64(9), int64(1)\n",
    "memory usage: 246.0 KB"
   ]
  },
  {
   "cell_type": "code",
   "execution_count": null,
   "id": "9e760924-908d-451f-83a5-de61545b1d49",
   "metadata": {},
   "outputs": [],
   "source": [
    "df = df.sort_values(by=['id', 'date'])\n",
    "df.head()"
   ]
  },
  {
   "cell_type": "code",
   "execution_count": null,
   "id": "ed494be1-1116-42b0-b3f4-693a108d3dc1",
   "metadata": {},
   "outputs": [],
   "source": [
    "\tid\tdate\tNH4\tBSK5\tSuspended\tO2\tNO3\tNO2\tSO4\tPO4\tCL\n",
    "0\t1\t2000-02-17\t0.330\t2.77\t12.0\t12.30\t9.50\t0.057\t154.0\t0.454\t289.5\n",
    "1\t1\t2000-05-11\t0.044\t3.00\t51.6\t14.61\t17.75\t0.034\t352.0\t0.090\t1792.0\n",
    "2\t1\t2000-09-11\t0.032\t2.10\t24.5\t9.87\t13.80\t0.173\t416.0\t0.200\t2509.0\n",
    "3\t1\t2000-12-13\t0.170\t2.23\t35.6\t12.40\t17.13\t0.099\t275.2\t0.377\t1264.0\n",
    "4\t1\t2001-03-02\t0.000\t3.03\t48.8\t14.69\t10.00\t0.065\t281.6\t0.134\t1462.0\n"
   ]
  },
  {
   "cell_type": "code",
   "execution_count": null,
   "id": "d8d5a5ca-95b4-493f-bfcc-bf53cff32b82",
   "metadata": {},
   "outputs": [],
   "source": [
    "df['year'] = df['date'].dt.year\n",
    "df['month'] = df['date'].dt.month"
   ]
  },
  {
   "cell_type": "code",
   "execution_count": null,
   "id": "030a7e76-19ef-4136-8830-939df35b7a0c",
   "metadata": {},
   "outputs": [],
   "source": [
    "df.head()"
   ]
  },
  {
   "cell_type": "code",
   "execution_count": null,
   "id": "7ef19fbc-12dd-4c7c-8dcc-6e3948816d7c",
   "metadata": {},
   "outputs": [],
   "source": [
    "\tid\tdate\tNH4\tBSK5\tSuspended\tO2\tNO3\tNO2\tSO4\tPO4\tCL\tyear\tmonth\n",
    "0\t1\t2000-02-17\t0.330\t2.77\t12.0\t12.30\t9.50\t0.057\t154.0\t0.454\t289.5\t2000\t2\n",
    "1\t1\t2000-05-11\t0.044\t3.00\t51.6\t14.61\t17.75\t0.034\t352.0\t0.090\t1792.0\t2000\t5\n",
    "2\t1\t2000-09-11\t0.032\t2.10\t24.5\t9.87\t13.80\t0.173\t416.0\t0.200\t2509.0\t2000\t9\n",
    "3\t1\t2000-12-13\t0.170\t2.23\t35.6\t12.40\t17.13\t0.099\t275.2\t0.377\t1264.0\t2000\t12\n",
    "4\t1\t2001-03-02\t0.000\t3.03\t48.8\t14.69\t10.00\t0.065\t281.6\t0.134\t1462.0\t2001\t3\n"
   ]
  },
  {
   "cell_type": "code",
   "execution_count": null,
   "id": "eef2adea-3b6c-481c-b5ba-b72534af3397",
   "metadata": {},
   "outputs": [],
   "source": [
    "df.columns"
   ]
  },
  {
   "cell_type": "code",
   "execution_count": null,
   "id": "93c44288-39f9-40a6-8bc6-ae99e96178d5",
   "metadata": {},
   "outputs": [],
   "source": [
    "Index(['id', 'date', 'NH4', 'BSK5', 'Suspended', 'O2', 'NO3', 'NO2', 'SO4',\n",
    "       'PO4', 'CL', 'year', 'month'],\n",
    "      dtype='object')"
   ]
  },
  {
   "cell_type": "code",
   "execution_count": null,
   "id": "a48df17b-7efa-43ce-9b20-560b5c3485bc",
   "metadata": {},
   "outputs": [],
   "source": [
    "pollutants = ['O2', 'NO3', 'NO2', 'SO4',\n",
    "       'PO4', 'CL']"
   ]
  }
 ],
 "metadata": {
  "kernelspec": {
   "display_name": "anaconda-2024.02-py310",
   "language": "python",
   "name": "conda-env-anaconda-2024.02-py310-py"
  },
  "language_info": {
   "codemirror_mode": {
    "name": "ipython",
    "version": 3
   },
   "file_extension": ".py",
   "mimetype": "text/x-python",
   "name": "python",
   "nbconvert_exporter": "python",
   "pygments_lexer": "ipython3",
   "version": "3.10.14"
  }
 },
 "nbformat": 4,
 "nbformat_minor": 5
}
